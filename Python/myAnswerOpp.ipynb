{
 "cells": [
  {
   "cell_type": "code",
   "execution_count": 13,
   "id": "b620334d",
   "metadata": {},
   "outputs": [
    {
     "name": "stdout",
     "output_type": "stream",
     "text": [
      "28.26 square unit\n",
      "25 square unit \n"
     ]
    }
   ],
   "source": [
    "# ASS1 : Polymorphism\n",
    "\n",
    "class shape:\n",
    "    def __init__(self, length, width):\n",
    "        self.length = length\n",
    "        self.width = width\n",
    "    def area(self):\n",
    "        return f\"{self.length} * {self.width} will give the area\"\n",
    "\n",
    "\n",
    "class circle(shape):\n",
    "    def __init__(self, radius):\n",
    "        self.radius = radius\n",
    "    def area(self):\n",
    "        return f\"{3.14 * (self.radius ** 2)} square unit\"\n",
    "    \n",
    "class square(shape):\n",
    "    def __init__(self, length):\n",
    "        self.length = length\n",
    "    def area(self):\n",
    "        return f\"{self.length * self.length } square unit \"  \n",
    "    \n",
    "circle1 = circle(3)\n",
    "sqaure1 = square(5)\n",
    "\n",
    "print(circle1.area())\n",
    "print(sqaure1.area())\n",
    "\n",
    "# Good the child method will override the parent method"
   ]
  },
  {
   "cell_type": "code",
   "execution_count": null,
   "id": "337b129b",
   "metadata": {},
   "outputs": [
    {
     "name": "stdout",
     "output_type": "stream",
     "text": [
      "28.26 square unit\n",
      "25 square unit \n"
     ]
    }
   ],
   "source": [
    "# Polymorphisim with Function Argument\n",
    "\n",
    "class shape:\n",
    "    def __init__(self, length, width):\n",
    "        self.length = length\n",
    "        self.width = width\n",
    "    def area(self):\n",
    "        return f\"{self.length} * {self.width} will give the area\"\n",
    "\n",
    "\n",
    "class circle(shape):\n",
    "    def __init__(self, radius):\n",
    "        self.radius = radius\n",
    "    def area(self):\n",
    "        return f\"{3.14 * (self.radius ** 2)} square unit\"\n",
    "    \n",
    "class square(shape):\n",
    "    def __init__(self, length):\n",
    "        self.length = length\n",
    "    def area(self):\n",
    "        return f\"{self.length * self.length } square unit \"  \n",
    "    \n",
    "\n",
    "def descibe_shape(shape):\n",
    "    print( shape.area())\n",
    "\n",
    "circle1 = circle(3)\n",
    "sqaure1 = square(5)\n",
    "\n",
    "\n",
    "descibe_shape(circle1)\n",
    "descibe_shape(sqaure1)\n",
    "\n",
    "#✅"
   ]
  },
  {
   "cell_type": "code",
   "execution_count": null,
   "id": "d4129b85",
   "metadata": {},
   "outputs": [],
   "source": []
  }
 ],
 "metadata": {
  "kernelspec": {
   "display_name": "Python 3",
   "language": "python",
   "name": "python3"
  },
  "language_info": {
   "codemirror_mode": {
    "name": "ipython",
    "version": 3
   },
   "file_extension": ".py",
   "mimetype": "text/x-python",
   "name": "python",
   "nbconvert_exporter": "python",
   "pygments_lexer": "ipython3",
   "version": "3.13.7"
  }
 },
 "nbformat": 4,
 "nbformat_minor": 5
}
